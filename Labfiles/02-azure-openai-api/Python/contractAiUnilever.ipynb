{
 "cells": [
  {
   "cell_type": "code",
   "execution_count": 1,
   "metadata": {},
   "outputs": [],
   "source": [
    "# load /home/codespace/mslearn-openai/Labfiles/02-azure-openai-api/Python/results1.csv\n",
    "\n",
    "import pandas as pd\n",
    "import matplotlib.pyplot as plt\n",
    "\n",
    "# Load the data\n",
    "data = pd.read_csv('/home/codespace/mslearn-openai/Labfiles/02-azure-openai-api/Python/results1.csv')"
   ]
  },
  {
   "cell_type": "code",
   "execution_count": 2,
   "metadata": {},
   "outputs": [
    {
     "data": {
      "text/html": [
       "<div>\n",
       "<style scoped>\n",
       "    .dataframe tbody tr th:only-of-type {\n",
       "        vertical-align: middle;\n",
       "    }\n",
       "\n",
       "    .dataframe tbody tr th {\n",
       "        vertical-align: top;\n",
       "    }\n",
       "\n",
       "    .dataframe thead th {\n",
       "        text-align: right;\n",
       "    }\n",
       "</style>\n",
       "<table border=\"1\" class=\"dataframe\">\n",
       "  <thead>\n",
       "    <tr style=\"text-align: right;\">\n",
       "      <th></th>\n",
       "      <th>File</th>\n",
       "      <th>When does the contract start?</th>\n",
       "      <th>When does the contract end?</th>\n",
       "      <th>Is there an auto-renewal clause in the contract and if so what does it state?</th>\n",
       "      <th>What are the notice periods for both parties and when do they apply in the contract?</th>\n",
       "      <th>By what means is the notice of termination communicated in the contract?</th>\n",
       "      <th>Does the contract have yearly price adjustments and if so what is the reference index and what is the maximum limit?</th>\n",
       "      <th>In what jurisdictions is the contract enforceable?</th>\n",
       "      <th>What are the names of the parties in the contract?</th>\n",
       "      <th>What does the contract state about termination for convenience and what is its effect?</th>\n",
       "    </tr>\n",
       "  </thead>\n",
       "  <tbody>\n",
       "    <tr>\n",
       "      <th>0</th>\n",
       "      <td>docs/local/files/Agreement Signature version o...</td>\n",
       "      <td>The date of the contract is mentioned as \"11th...</td>\n",
       "      <td>The contract shall continue until midnight on ...</td>\n",
       "      <td>Yes, there is an auto-renewal clause in the co...</td>\n",
       "      <td>The Customer may terminate the Agreement as a ...</td>\n",
       "      <td>The notice of termination is communicated by g...</td>\n",
       "      <td>Yes, the contract allows for yearly price adju...</td>\n",
       "      <td>The contract states that the courts of England...</td>\n",
       "      <td>The parties involved in the contract are not e...</td>\n",
       "      <td>The contract allows the customer to terminate ...</td>\n",
       "    </tr>\n",
       "    <tr>\n",
       "      <th>1</th>\n",
       "      <td>docs/local/files/Data Centre Transition Operat...</td>\n",
       "      <td>The obligations and rights of each party under...</td>\n",
       "      <td>The contract does not have a specific end date...</td>\n",
       "      <td>Yes, there is an auto-renewal clause in the co...</td>\n",
       "      <td>If the Parties are unable to agree on the revi...</td>\n",
       "      <td>The notice of termination in the contract can ...</td>\n",
       "      <td>Yes, there was a yearly price adjustment claus...</td>\n",
       "      <td>The contract is subject to the laws of England...</td>\n",
       "      <td>The contract mentions the Customer, the Accedi...</td>\n",
       "      <td>The contract states that if the Customer exerc...</td>\n",
       "    </tr>\n",
       "  </tbody>\n",
       "</table>\n",
       "</div>"
      ],
      "text/plain": [
       "                                                File  \\\n",
       "0  docs/local/files/Agreement Signature version o...   \n",
       "1  docs/local/files/Data Centre Transition Operat...   \n",
       "\n",
       "                       When does the contract start?  \\\n",
       "0  The date of the contract is mentioned as \"11th...   \n",
       "1  The obligations and rights of each party under...   \n",
       "\n",
       "                         When does the contract end?  \\\n",
       "0  The contract shall continue until midnight on ...   \n",
       "1  The contract does not have a specific end date...   \n",
       "\n",
       "  Is there an auto-renewal clause in the contract and if so what does it state?  \\\n",
       "0  Yes, there is an auto-renewal clause in the co...                              \n",
       "1  Yes, there is an auto-renewal clause in the co...                              \n",
       "\n",
       "  What are the notice periods for both parties and when do they apply in the contract?  \\\n",
       "0  The Customer may terminate the Agreement as a ...                                     \n",
       "1  If the Parties are unable to agree on the revi...                                     \n",
       "\n",
       "  By what means is the notice of termination communicated in the contract?  \\\n",
       "0  The notice of termination is communicated by g...                         \n",
       "1  The notice of termination in the contract can ...                         \n",
       "\n",
       "  Does the contract have yearly price adjustments and if so what is the reference index and what is the maximum limit?  \\\n",
       "0  Yes, the contract allows for yearly price adju...                                                                     \n",
       "1  Yes, there was a yearly price adjustment claus...                                                                     \n",
       "\n",
       "  In what jurisdictions is the contract enforceable?  \\\n",
       "0  The contract states that the courts of England...   \n",
       "1  The contract is subject to the laws of England...   \n",
       "\n",
       "  What are the names of the parties in the contract?  \\\n",
       "0  The parties involved in the contract are not e...   \n",
       "1  The contract mentions the Customer, the Accedi...   \n",
       "\n",
       "  What does the contract state about termination for convenience and what is its effect?  \n",
       "0  The contract allows the customer to terminate ...                                      \n",
       "1  The contract states that if the Customer exerc...                                      "
      ]
     },
     "execution_count": 2,
     "metadata": {},
     "output_type": "execute_result"
    }
   ],
   "source": [
    "data"
   ]
  },
  {
   "cell_type": "code",
   "execution_count": 3,
   "metadata": {},
   "outputs": [],
   "source": [
    "import os\n",
    "from dotenv import load_dotenv\n",
    "\n",
    "# Add Azure OpenAI package\n",
    "# Add Azure OpenAI package\n",
    "from openai import AzureOpenAI\n",
    "\n",
    "    \n",
    "# Get configuration settings \n",
    "load_dotenv()\n",
    "azure_oai_endpoint = os.getenv(\"AZURE_OAI_ENDPOINT\")\n",
    "azure_oai_key = os.getenv(\"AZURE_OAI_KEY\")\n",
    "azure_oai_deployment = os.getenv(\"AZURE_OAI_DEPLOYMENT\")\n",
    "\n",
    "# Initialize the Azure OpenAI client...\n",
    "# Initialize the Azure OpenAI client\n",
    "client = AzureOpenAI(\n",
    "        azure_endpoint = azure_oai_endpoint, \n",
    "        api_key=azure_oai_key,  \n",
    "        api_version=\"2024-02-15-preview\"\n",
    "        )\n",
    "\n",
    "# Create a system message\n",
    "system_message = \"\"\"You are a data analyst analysing question answer data. You are tasked to restructure it into a more useful format. You are also taked with helping understand the qaulity of the answers.\n",
    "    \"\"\"\n"
   ]
  },
  {
   "cell_type": "code",
   "execution_count": 4,
   "metadata": {},
   "outputs": [],
   "source": [
    "prompt = f\"Create a Json file which takes the table {data} and returns a table with the following columns: 'Question', 'Answer', 'Quality','criteria'. \\\n",
    "The 'Quality' column should be a score between 0 and 5, where 1 is the highest quality answer and 0 is the lowest quality answer. \\\n",
    "The 'Quality' score should be based on how well the question has been answered. The criteria column should include detailed reasoning behind the determination of the score. The 'Question' and 'Answer' columns should be the same as the input table.\\\n",
    "return every single question answer combination\""
   ]
  },
  {
   "cell_type": "code",
   "execution_count": 5,
   "metadata": {},
   "outputs": [],
   "source": [
    "\n",
    "def generate_response(prompt, system_message):\n",
    "    response = client.chat.completions.create(\n",
    "            model=azure_oai_deployment,\n",
    "            temperature=0.7,\n",
    "            max_tokens=400,\n",
    "            messages=[\n",
    "                {\"role\": \"system\", \"content\": system_message},\n",
    "                {\"role\": \"user\", \"content\": prompt}\n",
    "            ]\n",
    "        )\n",
    "    generated_text = response.choices[0].message.content\n",
    "\n",
    "    # Print the response\n",
    "    print(\"Response: \" + generated_text + \"\\n\")\n",
    "\n",
    "    return generated_text"
   ]
  },
  {
   "cell_type": "code",
   "execution_count": 6,
   "metadata": {},
   "outputs": [
    {
     "name": "stdout",
     "output_type": "stream",
     "text": [
      "Response: Here is a JSON representation of the given data:\n",
      "\n",
      "```json\n",
      "{\n",
      "  \"data\": [\n",
      "    {\n",
      "      \"File\": \"docs/local/files/Agreement Signature version o...\",\n",
      "      \"Question_Answer\": [\n",
      "        {\n",
      "          \"Question\": \"When does the contract start?\",\n",
      "          \"Answer\": \"The date of the contract is mentioned as '11th...\",\n",
      "          \"Quality\": 4,\n",
      "          \"Criteria\": \"The answer is clear and directly addresses the question, providing specific date.\"\n",
      "        },\n",
      "        {\n",
      "          \"Question\": \"When does the contract end?\",\n",
      "          \"Answer\": \"The contract shall continue until midnight on ...\",\n",
      "          \"Quality\": 5,\n",
      "          \"Criteria\": \"Answer is highly specific and completely addresses the query.\"\n",
      "        },\n",
      "        {\n",
      "          \"Question\": \"Is there an auto-renewal clause in the contract and if so what does it state?\",\n",
      "          \"Answer\": \"Yes, there is an auto-renewal clause in the co...\",\n",
      "          \"Quality\": 4,\n",
      "          \"Criteria\": \"Answer contains relevant information and specifically addresses the query.\"\n",
      "        },\n",
      "        {\n",
      "          \"Question\": \"What are the notice periods for both parties and when do they apply in the contract?\",\n",
      "          \"Answer\": \"The Customer may terminate the Agreement as a ...\",\n",
      "          \"Quality\": 3,\n",
      "          \"Criteria\": \"Answer is clear but could provide more specific timeframe details.\"\n",
      "        },\n",
      "        {\n",
      "          \"Question\": \"By what means is the notice of termination communicated in the contract?\",\n",
      "          \"Answer\": \"The notice of termination is communicated by g...\",\n",
      "          \"Quality\": 4,\n",
      "          \"Criteria\": \"Answer clearly addresses the question and provides specific means of communication.\"\n",
      "        },\n",
      "        {\n",
      "          \"Question\": \"Does the contract have yearly price adjustments and if so what is the reference index and what is the maximum limit?\",\n",
      "          \"Answer\": \"Yes, the contract allows for yearly price adju...\",\n",
      "          \"Quality\": 3,\n",
      "          \"Criteria\n",
      "\n"
     ]
    }
   ],
   "source": [
    "questionJsonStr = generate_response(prompt, system_message)"
   ]
  },
  {
   "cell_type": "code",
   "execution_count": 18,
   "metadata": {},
   "outputs": [],
   "source": [
    "prompt = f\"take the string output from {questionJsonStr} and convert it to a json object.\"\n"
   ]
  },
  {
   "cell_type": "code",
   "execution_count": 19,
   "metadata": {},
   "outputs": [
    {
     "name": "stdout",
     "output_type": "stream",
     "text": [
      "Response: Here is the JSON object representation of the string output:\n",
      "\n",
      "```json\n",
      "{\n",
      "  \"File\": \"docs/local/files/Agreement Signature version o...\",\n",
      "  \"Q&A\": [\n",
      "    {\n",
      "      \"Question\": \"When does the contract start?\",\n",
      "      \"Answer\": \"The date of the contract is mentioned as \\\"11th...\",\n",
      "      \"Quality\": 4\n",
      "    },\n",
      "    {\n",
      "      \"Question\": \"When does the contract end?\",\n",
      "      \"Answer\": \"The contract shall continue until midnight on ...\",\n",
      "      \"Quality\": 3\n",
      "    },\n",
      "    {\n",
      "      \"Question\": \"Is there an auto-renewal clause in the contract and if so what does it state?\",\n",
      "      \"Answer\": \"Yes, there is an auto-renewal clause in the co...\",\n",
      "      \"Quality\": 5\n",
      "    },\n",
      "    {\n",
      "      \"Question\": \"What are the notice periods for both parties and when do they apply in the contract?\",\n",
      "      \"Answer\": \"The Customer may terminate the Agreement as a ...\",\n",
      "      \"Quality\": 2\n",
      "    },\n",
      "    {\n",
      "      \"Question\": \"By what means is the notice of termination communicated in the contract?\",\n",
      "      \"Answer\": \"The notice of termination is communicated by g...\",\n",
      "      \"Quality\": 3\n",
      "    },\n",
      "    {\n",
      "      \"Question\": \"Does the contract have yearly price adjustments and if so what is the reference index and what is the maximum limit?\",\n",
      "      \"Answer\": \"Yes, the contract allows for yearly price adju...\",\n",
      "      \"Quality\": 4\n",
      "    },\n",
      "    {\n",
      "      \"Question\": \"In what jurisdictions is the contract enforceable?\",\n",
      "      \"Answer\": \"The contract states that the courts of England...\",\n",
      "      \"Quality\": 5\n",
      "    },\n",
      "    {\n",
      "      \"Question\": \"What are the names of the parties in the contract?\",\n",
      "      \"Answer\": \"The parties involved in the contract are not e...\",\n",
      "      \"Quality\": 1\n",
      "    }\n",
      "  ]\n",
      "}\n",
      "```\n",
      "\n",
      "For the quality of\n",
      "\n"
     ]
    }
   ],
   "source": [
    "questionJson = generate_response(prompt, system_message)\n",
    "\n"
   ]
  },
  {
   "cell_type": "code",
   "execution_count": 20,
   "metadata": {},
   "outputs": [
    {
     "data": {
      "text/plain": [
       "'Here is the JSON object representation of the string output:\\n\\n```json\\n{\\n  \"File\": \"docs/local/files/Agreement Signature version o...\",\\n  \"Q&A\": [\\n    {\\n      \"Question\": \"When does the contract start?\",\\n      \"Answer\": \"The date of the contract is mentioned as \\\\\"11th...\",\\n      \"Quality\": 4\\n    },\\n    {\\n      \"Question\": \"When does the contract end?\",\\n      \"Answer\": \"The contract shall continue until midnight on ...\",\\n      \"Quality\": 3\\n    },\\n    {\\n      \"Question\": \"Is there an auto-renewal clause in the contract and if so what does it state?\",\\n      \"Answer\": \"Yes, there is an auto-renewal clause in the co...\",\\n      \"Quality\": 5\\n    },\\n    {\\n      \"Question\": \"What are the notice periods for both parties and when do they apply in the contract?\",\\n      \"Answer\": \"The Customer may terminate the Agreement as a ...\",\\n      \"Quality\": 2\\n    },\\n    {\\n      \"Question\": \"By what means is the notice of termination communicated in the contract?\",\\n      \"Answer\": \"The notice of termination is communicated by g...\",\\n      \"Quality\": 3\\n    },\\n    {\\n      \"Question\": \"Does the contract have yearly price adjustments and if so what is the reference index and what is the maximum limit?\",\\n      \"Answer\": \"Yes, the contract allows for yearly price adju...\",\\n      \"Quality\": 4\\n    },\\n    {\\n      \"Question\": \"In what jurisdictions is the contract enforceable?\",\\n      \"Answer\": \"The contract states that the courts of England...\",\\n      \"Quality\": 5\\n    },\\n    {\\n      \"Question\": \"What are the names of the parties in the contract?\",\\n      \"Answer\": \"The parties involved in the contract are not e...\",\\n      \"Quality\": 1\\n    }\\n  ]\\n}\\n```\\n\\nFor the quality of'"
      ]
     },
     "execution_count": 20,
     "metadata": {},
     "output_type": "execute_result"
    }
   ],
   "source": [
    "questionJson"
   ]
  },
  {
   "cell_type": "code",
   "execution_count": null,
   "metadata": {},
   "outputs": [],
   "source": []
  }
 ],
 "metadata": {
  "kernelspec": {
   "display_name": "Python 3",
   "language": "python",
   "name": "python3"
  },
  "language_info": {
   "codemirror_mode": {
    "name": "ipython",
    "version": 3
   },
   "file_extension": ".py",
   "mimetype": "text/x-python",
   "name": "python",
   "nbconvert_exporter": "python",
   "pygments_lexer": "ipython3",
   "version": "3.10.13"
  }
 },
 "nbformat": 4,
 "nbformat_minor": 2
}
